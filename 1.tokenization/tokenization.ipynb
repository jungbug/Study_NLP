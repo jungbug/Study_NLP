{
 "cells": [
  {
   "cell_type": "markdown",
   "metadata": {},
   "source": [
    "# tokenization"
   ]
  },
  {
   "cell_type": "markdown",
   "metadata": {},
   "source": [
    "### sentence tokenization"
   ]
  },
  {
   "cell_type": "code",
   "execution_count": 9,
   "metadata": {},
   "outputs": [
    {
     "name": "stdout",
     "output_type": "stream",
     "text": [
      "['Time is an illusion.', 'Lunchtime double so!']\n"
     ]
    }
   ],
   "source": [
    "text = \"Time is an illusion. Lunchtime double so!\" \n",
    "\n",
    "from nltk import sent_tokenize\n",
    "sentences = sent_tokenize(text)\n",
    "print(sentences)"
   ]
  },
  {
   "cell_type": "markdown",
   "metadata": {},
   "source": [
    "### word tokenization"
   ]
  },
  {
   "cell_type": "code",
   "execution_count": 3,
   "metadata": {},
   "outputs": [
    {
     "name": "stdout",
     "output_type": "stream",
     "text": [
      "['Time', 'is', 'an', 'illusion', '.', 'Lunchtime', 'double', 'so', '!']\n"
     ]
    }
   ],
   "source": [
    "sentence = \"Time is an illusion. Lunchtime double so!\" \n",
    "\n",
    "from nltk import word_tokenize\n",
    "words = word_tokenize(sentence)\n",
    "print(words)"
   ]
  },
  {
   "cell_type": "markdown",
   "metadata": {},
   "source": [
    "### korean tokenization"
   ]
  },
  {
   "cell_type": "code",
   "execution_count": 5,
   "metadata": {},
   "outputs": [
    {
     "name": "stdout",
     "output_type": "stream",
     "text": [
      "['나', '는', '초등학생', '이다', '.', '나', '는', '앞', '으로', '중학생', '이', '될', '것', '이다', '.']\n"
     ]
    }
   ],
   "source": [
    "text = \"나는 초등학생이다. 나는 앞으로 중학생이 될 것이다.\"  \n",
    "\n",
    "from konlpy.tag import Okt\n",
    "okt = Okt()\n",
    "morphs = okt.morphs(text)\n",
    "print(morphs)"
   ]
  }
 ],
 "metadata": {
  "kernelspec": {
   "display_name": "nlp",
   "language": "python",
   "name": "python3"
  },
  "language_info": {
   "codemirror_mode": {
    "name": "ipython",
    "version": 3
   },
   "file_extension": ".py",
   "mimetype": "text/x-python",
   "name": "python",
   "nbconvert_exporter": "python",
   "pygments_lexer": "ipython3",
   "version": "3.11.5"
  }
 },
 "nbformat": 4,
 "nbformat_minor": 2
}
